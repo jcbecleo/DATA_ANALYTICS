{
 "cells": [
  {
   "cell_type": "markdown",
   "id": "2992d527-efed-4a40-8bcd-2d310030287d",
   "metadata": {},
   "source": [
    "# Support Vector Machines \n",
    "## Instructions\n",
    "1. Use any dataset from https://archive.ics.uci.edu/datasets?Task=Clustering&skip=0&take=10&sort=desc&orderBy=NumHits&search=&Area=Biology\n",
    "2. Each student should have a unique dataset otherwise no points will be given, so you need to discuss with your classmate."
   ]
  },
  {
   "cell_type": "markdown",
   "id": "89af0d9c-b58f-49d7-bba3-d47d89129dcd",
   "metadata": {},
   "source": [
    "**TASK: Take 10 moderately sized subsamples your dataset and create a correlation plot for each subsample**"
   ]
  },
  {
   "cell_type": "markdown",
   "id": "e527515d-f508-4e21-9ad4-9064b19036ec",
   "metadata": {},
   "source": [
    "**TASK (Classification): If your problem is a classification problem visually check if the target variable is imbalanced**\n",
    "**TASK (Regression): If your problem is a regression problem visually the distribution of your target variabe**"
   ]
  },
  {
   "cell_type": "markdown",
   "id": "e026dcd8-30e5-484e-bc07-960d3ca8d48f",
   "metadata": {},
   "source": [
    "**TASK: Take 10 moderately sized subsamples and create a pairplot of the feature variable in relation to the target variable**"
   ]
  },
  {
   "cell_type": "markdown",
   "id": "2a5747f9-6fd9-4fbc-950c-d422347b011c",
   "metadata": {},
   "source": [
    "**TASK: Create a clustermap with seaborn to explore the relationships between variables.**"
   ]
  },
  {
   "cell_type": "markdown",
   "id": "1ae3cfa9-94be-4f73-940e-e52278bb5efa",
   "metadata": {},
   "source": [
    "**TASK: Perform SVM modelling and check the performance of your model, improve the performance of your model using grdisearch**"
   ]
  }
 ],
 "metadata": {
  "kernelspec": {
   "display_name": "Python 3 (ipykernel)",
   "language": "python",
   "name": "python3"
  },
  "language_info": {
   "codemirror_mode": {
    "name": "ipython",
    "version": 3
   },
   "file_extension": ".py",
   "mimetype": "text/x-python",
   "name": "python",
   "nbconvert_exporter": "python",
   "pygments_lexer": "ipython3",
   "version": "3.11.5"
  }
 },
 "nbformat": 4,
 "nbformat_minor": 5
}

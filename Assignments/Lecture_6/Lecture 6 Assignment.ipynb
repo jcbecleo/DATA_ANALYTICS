{
 "cells": [
  {
   "cell_type": "markdown",
   "id": "7f9f0ee2-1d7e-4f89-b439-c523b8f5f152",
   "metadata": {},
   "source": [
    "Instructions:\n",
    "1. Choose a unique dataset from: https://archive.ics.uci.edu\n",
    "2. Your dataset should be unique from your classmates otherwise no points will be given for this exercise.\n",
    "### Complete the Tasks in bold"
   ]
  },
  {
   "cell_type": "markdown",
   "id": "a003747d-9602-448d-adb3-cef56981fba2",
   "metadata": {},
   "source": [
    "## Data Exploration\n",
    "\n",
    "**TASK: Create a correlation heatmap.**"
   ]
  },
  {
   "cell_type": "markdown",
   "id": "42763041-02c2-48b9-88c7-722e761ab2f4",
   "metadata": {},
   "source": [
    "**TASK: What are the top 5 correlated frequencies with the target\\label?**\n",
    "\n",
    "*Note: You many need to map the label to 0s and 1s.*\n",
    "\n",
    "*Additional Note: We're looking for **absolute** correlation values.*\n"
   ]
  },
  {
   "cell_type": "markdown",
   "id": "cee5e556-af13-4468-9923-85222a7c869d",
   "metadata": {},
   "source": [
    "## Train | Test Split\n",
    "\n",
    "Our approach here will be one of using Cross Validation on 90% of the dataset, and then judging our results on a final test set of 10% to evaluate our model.\n",
    "\n",
    "**TASK: Split the data into features and labels, and then split into a training set and test set, with 90% for Cross-Validation training, and 10% for a final test set.**\n",
    "\n",
    "*Note: Do not forget to put a random_state for reproducibility.*"
   ]
  },
  {
   "cell_type": "markdown",
   "id": "fea462b0-b491-4df1-bf51-1ffebb839524",
   "metadata": {},
   "source": [
    "**TASK: Create a PipeLine that contains both a StandardScaler and a KNN model**"
   ]
  },
  {
   "cell_type": "markdown",
   "id": "01177f05-c31d-4790-9527-517097e42862",
   "metadata": {},
   "source": [
    "**TASK: Perform a grid-search with the pipeline to test various values of k and report back the best performing parameters.**"
   ]
  },
  {
   "cell_type": "markdown",
   "id": "687262af-ce20-412f-b471-9337b3f9133c",
   "metadata": {},
   "source": [
    "**(HARD) TASK: Using the .cv_results_ dictionary, see if you can create a plot of the mean test scores per K value.**"
   ]
  },
  {
   "cell_type": "markdown",
   "id": "0ffa8064-4697-417c-843c-7c0cc101e2da",
   "metadata": {},
   "source": [
    "### Final Model Evaluation\n",
    "\n",
    "**TASK: Using the grid classifier object from the previous step, get a final performance classification report and confusion matrix.**"
   ]
  }
 ],
 "metadata": {
  "kernelspec": {
   "display_name": "Python 3 (ipykernel)",
   "language": "python",
   "name": "python3"
  },
  "language_info": {
   "codemirror_mode": {
    "name": "ipython",
    "version": 3
   },
   "file_extension": ".py",
   "mimetype": "text/x-python",
   "name": "python",
   "nbconvert_exporter": "python",
   "pygments_lexer": "ipython3",
   "version": "3.11.5"
  }
 },
 "nbformat": 4,
 "nbformat_minor": 5
}
